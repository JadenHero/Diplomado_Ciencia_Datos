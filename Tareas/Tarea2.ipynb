{
 "cells": [
  {
   "cell_type": "markdown",
   "id": "4db9e0ba-fb29-4d18-93af-eedbd1c89077",
   "metadata": {},
   "source": [
    "# Tarea 2 - Funciones"
   ]
  },
  {
   "cell_type": "code",
   "execution_count": 66,
   "id": "ed614c2a-1fd8-42a1-b0bf-132dfc7333fb",
   "metadata": {},
   "outputs": [],
   "source": [
    "import numpy as np"
   ]
  },
  {
   "cell_type": "markdown",
   "id": "2fe571ca-769b-45ec-9439-fe92db856c8b",
   "metadata": {},
   "source": [
    "Practicaremos funciones.\n",
    "Como en la tarea 1, prepare un cuaderno solución de la tarea.\n",
    "\n",
    "Cada ejercicio debe ser probado con un ejemplo de datos.\n",
    "1. Escriba una función  que reciba la fecha de nacimiento de un a persona y calcule la edad de la persona\n",
    "\n",
    "2. Crea una función EscribirCentrado, que reciba como parámetro un texto y lo escriba centrado en pantalla (suponiendo una anchura de 80 columnas; pista: deberás escribir 40 - longitud/2 espacios antes del texto).  \n",
    "\n",
    "\n",
    "3. Construya una función decorada que reciba un texto y lo escriba marcado con Markdown en itálica y resaltada (bold). Revise la lección de decoradores, no vista en clase.\n",
    "\n",
    "4. Crea un programa que pida dos número enteros al usuario y diga si alguno de ellos es múltiplo del otro. \n",
    "\n",
    "\n",
    "5. Crear una función re reciba una lista  de 24 valores de temperatura leída  hora en un día y que calcule la temperatura media  Cree una lista con 24 valores de temperatura de un día de Bogotá y pruebe su función. Invente los datos.\n",
    "\n",
    "6. Crea un función “ConvertirEspaciado”, que reciba como parámetro un texto y devuelve una cadena con un espacio adicional tras cada letra. Por ejemplo, “Hola, tú” devolverá “H o l a , t ú “.  Pruebe \n",
    "\n",
    "7. Crea una función “calcularMaxMin” que recibe una arreglo con valores numérico y devuelve el valor máximo y el mínimo. \n",
    "\n",
    "8. Diseñar una función que calcule el área y el perímetro de una circunferencia. \n",
    "\n",
    "9. Crear una función  llamada “Login”, que recibe un nombre de usuario y una contraseña y devuelva Verdadero si el nombre de usuario es “usuario1” y la contraseña es “asdasd”. Además recibe el número de intentos que se ha intentado hacer login y si no se ha podido hacer login incremente este valor.\n",
    "\n",
    "10. Crear una función recursiva que permita calcular el factorial de un número. Realiza un programa principal donde se lea un entero y se muestre el resultado del factorial. Revise la lección de funciones.\n",
    "\n",
    "11. Escribir dos funciones que permitan calcular:\n",
    " - La cantidad de segundos en un tiempo dado en horas, minutos y segundos.\n",
    " - La cantidad de horas, minutos y segundos de un tiempo dado en segundos\n",
    "\n",
    "12. Crea una función  que lea una tupla, invierta los valores de la tupla y regrese una nueva tupla invirtiendo los valores. Recuerde que las tuplas son inmutables.\n",
    "\n",
    "13. Escriba una función que lea una lista y calcule la media geométrica de sus valores, usando funtools.reduce."
   ]
  },
  {
   "cell_type": "markdown",
   "id": "cfd751be-82b1-4dc1-ba86-5cb8c762b471",
   "metadata": {},
   "source": [
    "## Punto 1"
   ]
  },
  {
   "cell_type": "markdown",
   "id": "ce33e9c9-b4af-4374-914d-24a732893916",
   "metadata": {},
   "source": [
    "1\\. Escriba una función  que reciba la fecha de nacimiento de un a persona y calcule la edad de la persona"
   ]
  },
  {
   "cell_type": "code",
   "execution_count": 30,
   "id": "5c760b7a-4254-4cf7-92c6-7381f74b411a",
   "metadata": {},
   "outputs": [
    {
     "name": "stdout",
     "output_type": "stream",
     "text": [
      "La persona tiene 21 años.\n"
     ]
    }
   ],
   "source": [
    "from datetime import date # formato de fechas\n",
    "\n",
    "def calcular_edad(fecha_nacimiento):\n",
    "    fecha_actual = date.today()\n",
    "    edad = fecha_actual.year - fecha_nacimiento.year\n",
    "\n",
    "    if (fecha_actual.month, fecha_actual.day) < (fecha_nacimiento.month, fecha_nacimiento.day):\n",
    "        edad -= 1\n",
    "        \n",
    "    return edad\n",
    "\n",
    "# Ejemplo de uso\n",
    "fecha_nacimiento = date(2001, 12, 9)  # Ejemplo de fecha de nacimiento\n",
    "edad = calcular_edad(fecha_nacimiento)\n",
    "print(\"La persona tiene\", edad, \"años.\")"
   ]
  },
  {
   "cell_type": "markdown",
   "id": "d78bb436-4b13-4d8d-b211-4391752b6be1",
   "metadata": {},
   "source": [
    "# Punto 2"
   ]
  },
  {
   "cell_type": "markdown",
   "id": "84548389-a0b4-492b-a16f-f3492e164889",
   "metadata": {},
   "source": [
    "Crea una función EscribirCentrado, que reciba como parámetro un texto y lo escriba centrado en pantalla (suponiendo una anchura de 80 columnas; pista: deberás escribir 40 - longitud/2 espacios antes del texto)"
   ]
  },
  {
   "cell_type": "code",
   "execution_count": 41,
   "id": "6a199d54-22c6-47b9-9eb4-cbd15eb49e4a",
   "metadata": {},
   "outputs": [
    {
     "name": "stdout",
     "output_type": "stream",
     "text": [
      "                                  Hola, mundo!\n"
     ]
    }
   ],
   "source": [
    "def escribir_centrado(texto, pantalla_ancho):\n",
    "    pantalla_ancho = 80\n",
    "    texto_ancho = len(texto)\n",
    "\n",
    "    margen_izquierdo = (pantalla_ancho - texto_ancho)//2\n",
    "    texto_centrado = ' ' * margen_izquierdo + texto  # los strings pueden operarse algebraicamente con + y *\n",
    "\n",
    "    print(texto_centrado)\n",
    "\n",
    "# Ejemplo de uso\n",
    "escribir_centrado(\"Hola, mundo!\", pantalla_ancho=80)"
   ]
  },
  {
   "cell_type": "markdown",
   "id": "1a925557-4f67-4b92-829f-698adcca45db",
   "metadata": {},
   "source": [
    "# Punto 3"
   ]
  },
  {
   "cell_type": "markdown",
   "id": "d07b372d-f0c4-45eb-8e80-6b7cface37cd",
   "metadata": {},
   "source": [
    "Construya una función decorada que reciba un texto y lo escriba marcado con Markdown en itálica y resaltada (bold). Revise la lección de decoradores, no vista en clase."
   ]
  },
  {
   "cell_type": "code",
   "execution_count": 61,
   "id": "f856f2fd-030d-4527-b64e-30718d356654",
   "metadata": {},
   "outputs": [
    {
     "name": "stdout",
     "output_type": "stream",
     "text": [
      "_**Hola, mundo!**_\n"
     ]
    }
   ],
   "source": [
    "# Decoradores\n",
    "def make_bold(fn):\n",
    "    def makebold_wrapper(texto): # wrapper:Envoltura\n",
    "        return '**' + fn(texto) + '**'\n",
    "    return makebold_wrapper\n",
    "\n",
    "def make_italic(fn):\n",
    "    def makeitalic_wrapper(texto):\n",
    "        return '_' + fn(texto) + '_'\n",
    "    return makeitalic_wrapper\n",
    "\n",
    "# Aplicamos los decoradores\n",
    "@make_italic\n",
    "@make_bold\n",
    "def escribir_marcado(texto):\n",
    "    return texto\n",
    "\n",
    "# Ejemplo de uso\n",
    "texto = \"Hola, mundo!\"\n",
    "print(escribir_marcado(texto))"
   ]
  },
  {
   "cell_type": "markdown",
   "id": "c19b642c-d95a-4535-8590-0e0eb8c9ad59",
   "metadata": {},
   "source": [
    "_**Hola, mundo!**_"
   ]
  },
  {
   "cell_type": "code",
   "execution_count": 46,
   "id": "edc8097a-ba07-407c-9e80-0c2fa67844a7",
   "metadata": {},
   "outputs": [
    {
     "name": "stdout",
     "output_type": "stream",
     "text": [
      "**_Hola, mundo!_**\n"
     ]
    }
   ],
   "source": [
    "def italic_bold(func):\n",
    "    def wrapper(texto):\n",
    "        texto_formateado = f\"**_{texto}_**\"\n",
    "        return func(texto_formateado)\n",
    "    return wrapper\n",
    "\n",
    "@formato_markdown\n",
    "def escribir_marcado(texto):\n",
    "    print(texto)\n",
    "\n",
    "# Ejemplo de uso\n",
    "texto = \"Hola, mundo!\"\n",
    "escribir_marcado(texto)"
   ]
  },
  {
   "cell_type": "markdown",
   "id": "c3c9cbb5-15a1-45e2-bb65-9a80ed2f97ed",
   "metadata": {},
   "source": [
    "<b><i>Hola, mundo!</i></b>"
   ]
  },
  {
   "cell_type": "markdown",
   "id": "0840302b-612d-49d3-a425-d3a8279ebcc6",
   "metadata": {},
   "source": [
    "## Punto 4"
   ]
  },
  {
   "cell_type": "markdown",
   "id": "fa4ae4ca-d586-45f5-879f-176a61d19675",
   "metadata": {},
   "source": [
    "Crea un programa que pida dos número enteros al usuario y diga si alguno de ellos es múltiplo del otro"
   ]
  },
  {
   "cell_type": "code",
   "execution_count": 64,
   "id": "6c2ed1f8-b00f-4f7e-8905-8b915a580504",
   "metadata": {},
   "outputs": [
    {
     "name": "stdin",
     "output_type": "stream",
     "text": [
      "Ingrese el primer número entero:  10\n",
      "Ingrese el segundo número entero:  100\n"
     ]
    },
    {
     "name": "stdout",
     "output_type": "stream",
     "text": [
      "100 es múltiplo de 10.\n"
     ]
    }
   ],
   "source": [
    "numero1 = int(input(\"Ingrese el primer número entero: \"))\n",
    "numero2 = int(input(\"Ingrese el segundo número entero: \"))\n",
    "\n",
    "# el operados % Realiza un módulo entre los operandos, i.e, el residuo de la division\n",
    "if numero1 % numero2 == 0:\n",
    "    print(f\"{numero1} es múltiplo de {numero2}.\")\n",
    "elif numero2 % numero1 == 0:\n",
    "    print(f\"{numero2} es múltiplo de {numero1}.\")\n",
    "else:\n",
    "    print(\"Los números no son múltiplos entre sí.\")"
   ]
  },
  {
   "cell_type": "markdown",
   "id": "07f47663-3831-4e8e-9548-1d38321b8232",
   "metadata": {},
   "source": [
    "## Punto 5"
   ]
  },
  {
   "cell_type": "markdown",
   "id": "3fcea5c4-0b69-439c-9571-5307bdb20fc9",
   "metadata": {},
   "source": [
    "Crear una función que reciba una lista de 24 valores de temperatura por hora en un día y calcule la temperatura media. Cree una lista con 24 valores de temperatura de un día de Bogotá y pruebe su función. Invente los datos."
   ]
  },
  {
   "cell_type": "code",
   "execution_count": 75,
   "id": "053fd3fc-af29-4619-a88c-f71d17c25e85",
   "metadata": {},
   "outputs": [
    {
     "name": "stdout",
     "output_type": "stream",
     "text": [
      "La temperatura promedio es: 28.833333333333332\n"
     ]
    }
   ],
   "source": [
    "temp = [22, 23, 24, 25, 25, 26, 27, 28, 29, 30, 30, 31, 32, 32, 33, 34, 34, 33, 32, 31, 30, 28, 27, 26]\n",
    "\n",
    "def temp_media(x):\n",
    "    return np.mean(x)\n",
    "\n",
    "temperatura_promedio = temp_media(temp)\n",
    "print('La temperatura promedio es:', temperatura_promedio)"
   ]
  },
  {
   "cell_type": "markdown",
   "id": "2fe8cf91-0808-4d71-8e37-e8274662e41d",
   "metadata": {},
   "source": [
    "## Punto 6"
   ]
  },
  {
   "cell_type": "markdown",
   "id": "04ad068a-320a-482f-a7bc-53a945bc17fb",
   "metadata": {},
   "source": [
    "Crea un función “ConvertirEspaciado”, que reciba como parámetro un texto y devuelve una cadena con un espacio adicional tras cada letra. Por ejemplo, “Hola, tú” devolverá “H o l a ,  t ú” . Pruebe"
   ]
  },
  {
   "cell_type": "code",
   "execution_count": 81,
   "id": "f10a0e67-1179-4a7f-ac99-080ecbe4a472",
   "metadata": {},
   "outputs": [
    {
     "name": "stdout",
     "output_type": "stream",
     "text": [
      "H o l a ,   t ú\n"
     ]
    }
   ],
   "source": [
    "def convertir_espaciado(texto):\n",
    "    texto_espaciado = ' '.join(texto) # concatena todos los elementos usando como separador ' ' \n",
    "    return texto_espaciado\n",
    "\n",
    "# Ejemplo de uso\n",
    "texto = \"Hola, tú\"\n",
    "texto_espaciado = convertir_espaciado(texto)\n",
    "print(texto_espaciado)"
   ]
  },
  {
   "cell_type": "markdown",
   "id": "0d65de7e-4e84-4c5e-b89f-acf0e93f5884",
   "metadata": {},
   "source": [
    "## Punto 7"
   ]
  },
  {
   "cell_type": "markdown",
   "id": "428cb2f2-2843-4acb-8558-e2bf064b2184",
   "metadata": {},
   "source": [
    " Crea una función “calcularMaxMin” que recibe una arreglo con valores numérico y devuelve el valor máximo y el mínimo."
   ]
  },
  {
   "cell_type": "code",
   "execution_count": 82,
   "id": "41c0fe5a-7430-42a4-9db4-5460372180e6",
   "metadata": {},
   "outputs": [
    {
     "name": "stdout",
     "output_type": "stream",
     "text": [
      "El valor mínimo es: 1\n",
      "El valor maximo es: 9\n"
     ]
    }
   ],
   "source": [
    "def calcular_max_min(arreglo):\n",
    "    if len(arreglo) == 0:\n",
    "        return None\n",
    "    return min(arreglo), max(arreglo)\n",
    "\n",
    "# Ejemplo de uso\n",
    "valores = [5, 2, 8, 1, 9, 4]\n",
    "minimo, maximo = calcular_max_min(valores)\n",
    "print(\"El valor mínimo es:\", minimo)\n",
    "print(\"El valor maximo es:\", maximo)"
   ]
  },
  {
   "cell_type": "markdown",
   "id": "b8b6abac-f9f7-4c03-a792-7b147e031c1e",
   "metadata": {},
   "source": [
    "## Punto 8"
   ]
  },
  {
   "cell_type": "markdown",
   "id": "405b841f-7ed9-483c-ab30-0febb34b5e9b",
   "metadata": {},
   "source": [
    "Diseñar una función que calcule el área y el perímetro de una circunferencia. "
   ]
  },
  {
   "cell_type": "code",
   "execution_count": 84,
   "id": "50ffc1db-86bf-4c86-bf1d-5189dedd39c1",
   "metadata": {},
   "outputs": [
    {
     "name": "stdout",
     "output_type": "stream",
     "text": [
      "El área de la circunferencia es: 3.141592653589793\n",
      "El perímetro de la circunferencia es: 6.283185307179586\n"
     ]
    }
   ],
   "source": [
    "import math # para importar el numero pi\n",
    "\n",
    "def calcular_circunferencia(radio):\n",
    "    area = math.pi * radio**2\n",
    "    perimetro = 2 * math.pi * radio\n",
    "    return area, perimetro\n",
    "\n",
    "# Ejemplo de uso\n",
    "radio = 1\n",
    "area, perimetro = calcular_circunferencia(radio)\n",
    "print(\"El área de la circunferencia es:\", area)\n",
    "print(\"El perímetro de la circunferencia es:\", perimetro)"
   ]
  },
  {
   "cell_type": "markdown",
   "id": "014c3552-38a1-43a9-bec7-156eb768c570",
   "metadata": {},
   "source": [
    "## Punto 9"
   ]
  },
  {
   "cell_type": "markdown",
   "id": "eb1fe1ab-ff72-44d5-8ead-c278ab399f4b",
   "metadata": {},
   "source": [
    "Crear una función  llamada “Login”, que recibe un nombre de usuario y una contraseña y devuelva Verdadero si el nombre de usuario es “usuario1” y la contraseña es “asdasd”. Además recibe el número maximo de intentos."
   ]
  },
  {
   "cell_type": "code",
   "execution_count": 100,
   "id": "b69c19d4-5c42-4002-bce6-4158f010b102",
   "metadata": {},
   "outputs": [
    {
     "name": "stdin",
     "output_type": "stream",
     "text": [
      "Nombre de Usuario:  11\n",
      "Contraseña:  11\n"
     ]
    },
    {
     "name": "stdout",
     "output_type": "stream",
     "text": [
      "Nombre de usuario o contraseña incorrectos. Inténtalo nuevamente. Te quedan 2 intentos\n"
     ]
    },
    {
     "name": "stdin",
     "output_type": "stream",
     "text": [
      "Nombre de usuario:  22\n",
      "Contraseña:  22\n"
     ]
    },
    {
     "name": "stdout",
     "output_type": "stream",
     "text": [
      "Nombre de usuario o contraseña incorrectos. Inténtalo nuevamente. Te quedan 1 intentos\n"
     ]
    },
    {
     "name": "stdin",
     "output_type": "stream",
     "text": [
      "Nombre de usuario:  33\n",
      "Contraseña:  33\n"
     ]
    },
    {
     "name": "stdout",
     "output_type": "stream",
     "text": [
      "Inicio de sesión fallido. Número máximo de intentos alcanzado.\n"
     ]
    }
   ],
   "source": [
    "def login(nombre_usuario, contraseña, max_intentos):\n",
    "    intentos = 1  # Inicializamos el contador de intentos en 1\n",
    "\n",
    "    while intentos < max_intentos:\n",
    "        if nombre_usuario == \"usuario1\" and contraseña == \"asdasd\":\n",
    "            return True, intentos\n",
    "        else:\n",
    "            print(f\"Nombre de usuario o contraseña incorrectos. Inténtalo nuevamente. Te quedan {max_intentos - intentos} intentos\")\n",
    "            intentos += 1\n",
    "            nombre_usuario = input(\"Nombre de usuario: \")\n",
    "            contraseña = input(\"Contraseña: \")\n",
    "    \n",
    "    return False, intentos\n",
    "\n",
    "# Ejemplo de uso\n",
    "nombre = input(\"Nombre de Usuario: \")\n",
    "contraseña = input(\"Contraseña: \")\n",
    "max_intentos = 3  # Número máximo de intentos permitidos\n",
    "login_exitoso, intentos = login(nombre, contraseña, 3)\n",
    "\n",
    "if login_exitoso:\n",
    "    print(\"¡Inicio de sesión exitoso!\")\n",
    "    print(\"Número de intentos:\", intentos)\n",
    "else:\n",
    "    print(\"Inicio de sesión fallido. Número máximo de intentos alcanzado.\")"
   ]
  },
  {
   "cell_type": "markdown",
   "id": "55eef32d-93cf-4f1c-98da-879529c6be02",
   "metadata": {},
   "source": [
    "## Punto 10"
   ]
  },
  {
   "cell_type": "markdown",
   "id": "46159712-ecda-46c2-8f2e-ac09c79c7a68",
   "metadata": {},
   "source": [
    "Crear una función recursiva que permita calcular el factorial de un número. Realiza un programa principal donde se lea un entero y se muestre el resultado del factorial. Revise la lección de funciones."
   ]
  },
  {
   "cell_type": "code",
   "execution_count": 20,
   "id": "5c4fa622-5001-4106-97b0-6042bba99bae",
   "metadata": {},
   "outputs": [
    {
     "name": "stdin",
     "output_type": "stream",
     "text": [
      "Ingrese un número entero:  5\n"
     ]
    },
    {
     "name": "stdout",
     "output_type": "stream",
     "text": [
      "El factorial de 5 es: 120\n"
     ]
    }
   ],
   "source": [
    "def calcular_factorial(numero):\n",
    "    if numero == 0:\n",
    "        return 1\n",
    "    else:\n",
    "        return numero * calcular_factorial(numero - 1)\n",
    "\n",
    "# Programa principal\n",
    "numero = int(input(\"Ingrese un número entero: \"))\n",
    "factorial = calcular_factorial(numero)\n",
    "print(f\"El factorial de {numero} es: {factorial}\")"
   ]
  },
  {
   "cell_type": "markdown",
   "id": "437a9ac9-918b-445d-a814-4839ada480de",
   "metadata": {},
   "source": [
    "## Punto 11"
   ]
  },
  {
   "cell_type": "code",
   "execution_count": 21,
   "id": "5ec14eb2-6e03-4ba9-9dd3-e52849e5f762",
   "metadata": {},
   "outputs": [
    {
     "name": "stdout",
     "output_type": "stream",
     "text": [
      "Tupla original: (1, 2, 3, 4, 5)\n",
      "Tupla invertida: (5, 4, 3, 2, 1)\n"
     ]
    }
   ],
   "source": [
    "def invertir_tupla(tupla):\n",
    "    nueva_tupla = tuple(reversed(tupla))\n",
    "    return nueva_tupla\n",
    "\n",
    "tupla_original = (1, 2, 3, 4, 5)\n",
    "tupla_invertida = invertir_tupla(tupla_original)\n",
    "print(\"Tupla original:\", tupla_original)\n",
    "print(\"Tupla invertida:\", tupla_invertida)"
   ]
  },
  {
   "cell_type": "code",
   "execution_count": 22,
   "id": "69c5c10b-2af3-45f3-8e1e-d39b93ec1ffe",
   "metadata": {},
   "outputs": [
    {
     "name": "stdout",
     "output_type": "stream",
     "text": [
      "Tupla original: (1, 2, 3, 4, 5)\n",
      "Tupla de inversos multiplicativos: (1.0, 0.5, 0.3333333333333333, 0.25, 0.2)\n"
     ]
    }
   ],
   "source": [
    "def invertir_tupla(tupla):\n",
    "    inversos = tuple(1 / valor for valor in tupla)\n",
    "    return inversos\n",
    "\n",
    "tupla_original = (1, 2, 3, 4, 5)\n",
    "tupla_inversos = invertir_tupla(tupla_original)\n",
    "print(\"Tupla original:\", tupla_original)\n",
    "print(\"Tupla de inversos multiplicativos:\", tupla_inversos)"
   ]
  },
  {
   "cell_type": "markdown",
   "id": "fbc27b49-3005-4a4b-99b3-c72395e3180b",
   "metadata": {},
   "source": [
    "## Punto 13"
   ]
  },
  {
   "cell_type": "code",
   "execution_count": 23,
   "id": "9ccf2811-9e46-476d-ad96-d6598d1d4404",
   "metadata": {},
   "outputs": [
    {
     "name": "stdout",
     "output_type": "stream",
     "text": [
      "Lista de valores: [2, 4, 6, 8, 10]\n",
      "Media geométrica: 5.210342169394704\n"
     ]
    }
   ],
   "source": [
    "from functools import reduce\n",
    "import math\n",
    "\n",
    "def calcular_media_geometrica(lista):\n",
    "    producto = reduce(lambda x, y: x * y, lista)\n",
    "    media_geometrica = math.pow(producto, 1 / len(lista))\n",
    "    return media_geometrica\n",
    "\n",
    "lista_valores = [2, 4, 6, 8, 10]\n",
    "media_geom = calcular_media_geometrica(lista_valores)\n",
    "print(\"Lista de valores:\", lista_valores)\n",
    "print(\"Media geométrica:\", media_geom)"
   ]
  },
  {
   "cell_type": "code",
   "execution_count": 26,
   "id": "e189fc1a-1903-48af-98c4-6f76810008b9",
   "metadata": {},
   "outputs": [
    {
     "data": {
      "text/plain": [
       "3.0"
      ]
     },
     "execution_count": 26,
     "metadata": {},
     "output_type": "execute_result"
    }
   ],
   "source": [
    "27**(1/3)"
   ]
  }
 ],
 "metadata": {
  "kernelspec": {
   "display_name": "Python 3 (ipykernel)",
   "language": "python",
   "name": "python3"
  },
  "language_info": {
   "codemirror_mode": {
    "name": "ipython",
    "version": 3
   },
   "file_extension": ".py",
   "mimetype": "text/x-python",
   "name": "python",
   "nbconvert_exporter": "python",
   "pygments_lexer": "ipython3",
   "version": "3.9.13"
  }
 },
 "nbformat": 4,
 "nbformat_minor": 5
}

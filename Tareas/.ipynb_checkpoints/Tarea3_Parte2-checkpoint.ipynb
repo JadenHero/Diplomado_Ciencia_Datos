{
 "cells": [
  {
   "cell_type": "markdown",
   "id": "aca5c94b-bbcb-4643-8e55-bdb335b178fe",
   "metadata": {},
   "source": [
    "# Tarea 3 - Parte 2"
   ]
  },
  {
   "cell_type": "markdown",
   "id": "4a4119cb-2780-4873-b88b-916715dd6065",
   "metadata": {},
   "source": [
    "Escriba una clase con las siguientes funcionalidades:\n",
    "1. Al instanciar un objeto, lee un conjunto de datos numéricos. Por ejemplo puede usar el mismo conjunto de datos iris.csv. Instancie los datos en un dataframe de Pandas\n",
    "2. Implemente un método que calcule las estadísticas descriptivas básicas de cada una de las variables.\n",
    "3. Implemente un método que entregue los nombre de las variables disponibles.\n",
    "4. Implemente un método que reciba el nombre de una variable disponible dentro del objeto ( en el  dataframe) y regrese: sus estadísticas básicas:  media, mediana, desviación, percentiles q25, q50, q75 y dibuje un histograma de la distribución de la variable."
   ]
  },
  {
   "cell_type": "markdown",
   "id": "d38d4db4-b523-49c3-bb28-2b9e2e773aba",
   "metadata": {},
   "source": [
    "# Solución"
   ]
  },
  {
   "cell_type": "code",
   "execution_count": 91,
   "id": "e50aff14-1b24-4b2d-a2a8-8b6d2731eb25",
   "metadata": {},
   "outputs": [],
   "source": [
    "import pandas as pd\n",
    "import matplotlib.pyplot as plt\n",
    "import seaborn as sns\n",
    "import plotly.express as px\n",
    "import numpy as np"
   ]
  },
  {
   "cell_type": "code",
   "execution_count": 107,
   "id": "b4626c3a-f631-4bca-bcb6-ff3a8f70d696",
   "metadata": {},
   "outputs": [],
   "source": [
    "class DatasetAnalyzer:\n",
    "    def __init__(self, filename):\n",
    "        self.dataframe = pd.read_csv(filename)\n",
    "\n",
    "    def calculate_descriptive_stats(self):\n",
    "        return self.dataframe.describe()\n",
    "\n",
    "    def get_variable_names(self):\n",
    "        return list(self.dataframe.columns)\n",
    "\n",
    "    def analyze_variable(self, variable_name, hist=True):\n",
    "        variable_data = self.dataframe[variable_name]\n",
    "\n",
    "        statistics = pd.Series({\n",
    "            'mean': variable_data.mean(),\n",
    "            'median': variable_data.median(),\n",
    "            'std': variable_data.std(),\n",
    "            'q25': variable_data.quantile(0.25),\n",
    "            'q50': variable_data.quantile(0.50),\n",
    "            'q75': variable_data.quantile(0.75)\n",
    "        })\n",
    "        \n",
    "        if hist is True:\n",
    "            #Con seaborn\n",
    "            sns.set()\n",
    "            #fig = sns.histplot(x=variable_data, element=\"step\", stat=\"density\", color=\"blue\", alpha=0.5, bins=20)\n",
    "            sns.displot(x=variable_data, kde=True, element=\"step\", stat=\"density\", color=\"blue\", alpha=0.7, bins=20)\n",
    "            \n",
    "            # Con metodo hist() de pandas\n",
    "            #variable_data.hist(bins=20)\n",
    "            #plt.xlabel(variable_name)\n",
    "            #plt.ylabel('Frequency')\n",
    "            #plt.title('Histogram of {}'.format(variable_name))\n",
    "            #plt.show()\n",
    "            \n",
    "            # Con Plotly\n",
    "            #histograma = px.histogram(variable_data, nbins=20, title='Histograma',color_discrete_sequence=['#F2AB6D'], histnorm='probability density')\n",
    "            # configuramos las etiquetas de los ejes\n",
    "            #histograma.update_layout(xaxis_title=variable_name, yaxis_title=\"Densidad\", width=800, height=600) # bargap=0.2\n",
    "            #histograma.show()\n",
    "        \n",
    "        return(statistics)"
   ]
  },
  {
   "cell_type": "markdown",
   "id": "5cbef63e-6590-4814-8f7b-97de8d11eb70",
   "metadata": {},
   "source": [
    "## Ejemplo"
   ]
  },
  {
   "cell_type": "code",
   "execution_count": 108,
   "id": "4cfd59be-8213-4d2a-b2f5-87ce71c03145",
   "metadata": {},
   "outputs": [
    {
     "data": {
      "text/html": [
       "<div>\n",
       "<style scoped>\n",
       "    .dataframe tbody tr th:only-of-type {\n",
       "        vertical-align: middle;\n",
       "    }\n",
       "\n",
       "    .dataframe tbody tr th {\n",
       "        vertical-align: top;\n",
       "    }\n",
       "\n",
       "    .dataframe thead th {\n",
       "        text-align: right;\n",
       "    }\n",
       "</style>\n",
       "<table border=\"1\" class=\"dataframe\">\n",
       "  <thead>\n",
       "    <tr style=\"text-align: right;\">\n",
       "      <th></th>\n",
       "      <th>sepal_length</th>\n",
       "      <th>sepal_width</th>\n",
       "      <th>petal_length</th>\n",
       "      <th>petal_width</th>\n",
       "    </tr>\n",
       "  </thead>\n",
       "  <tbody>\n",
       "    <tr>\n",
       "      <th>count</th>\n",
       "      <td>150.000000</td>\n",
       "      <td>150.000000</td>\n",
       "      <td>150.000000</td>\n",
       "      <td>150.000000</td>\n",
       "    </tr>\n",
       "    <tr>\n",
       "      <th>mean</th>\n",
       "      <td>5.843333</td>\n",
       "      <td>3.054000</td>\n",
       "      <td>3.758667</td>\n",
       "      <td>1.198667</td>\n",
       "    </tr>\n",
       "    <tr>\n",
       "      <th>std</th>\n",
       "      <td>0.828066</td>\n",
       "      <td>0.433594</td>\n",
       "      <td>1.764420</td>\n",
       "      <td>0.763161</td>\n",
       "    </tr>\n",
       "    <tr>\n",
       "      <th>min</th>\n",
       "      <td>4.300000</td>\n",
       "      <td>2.000000</td>\n",
       "      <td>1.000000</td>\n",
       "      <td>0.100000</td>\n",
       "    </tr>\n",
       "    <tr>\n",
       "      <th>25%</th>\n",
       "      <td>5.100000</td>\n",
       "      <td>2.800000</td>\n",
       "      <td>1.600000</td>\n",
       "      <td>0.300000</td>\n",
       "    </tr>\n",
       "    <tr>\n",
       "      <th>50%</th>\n",
       "      <td>5.800000</td>\n",
       "      <td>3.000000</td>\n",
       "      <td>4.350000</td>\n",
       "      <td>1.300000</td>\n",
       "    </tr>\n",
       "    <tr>\n",
       "      <th>75%</th>\n",
       "      <td>6.400000</td>\n",
       "      <td>3.300000</td>\n",
       "      <td>5.100000</td>\n",
       "      <td>1.800000</td>\n",
       "    </tr>\n",
       "    <tr>\n",
       "      <th>max</th>\n",
       "      <td>7.900000</td>\n",
       "      <td>4.400000</td>\n",
       "      <td>6.900000</td>\n",
       "      <td>2.500000</td>\n",
       "    </tr>\n",
       "  </tbody>\n",
       "</table>\n",
       "</div>"
      ],
      "text/plain": [
       "       sepal_length  sepal_width  petal_length  petal_width\n",
       "count    150.000000   150.000000    150.000000   150.000000\n",
       "mean       5.843333     3.054000      3.758667     1.198667\n",
       "std        0.828066     0.433594      1.764420     0.763161\n",
       "min        4.300000     2.000000      1.000000     0.100000\n",
       "25%        5.100000     2.800000      1.600000     0.300000\n",
       "50%        5.800000     3.000000      4.350000     1.300000\n",
       "75%        6.400000     3.300000      5.100000     1.800000\n",
       "max        7.900000     4.400000      6.900000     2.500000"
      ]
     },
     "execution_count": 108,
     "metadata": {},
     "output_type": "execute_result"
    }
   ],
   "source": [
    "# Ejemplo de uso\n",
    "dataset = DatasetAnalyzer('iris.csv')\n",
    "\n",
    "# Calcular estadísticas descriptivas básicas\n",
    "descriptive_stats = dataset.calculate_descriptive_stats()\n",
    "descriptive_stats"
   ]
  },
  {
   "cell_type": "code",
   "execution_count": 109,
   "id": "e7d3cb10-7de6-4ef4-8ec8-32b4b9e517cf",
   "metadata": {},
   "outputs": [
    {
     "data": {
      "text/plain": [
       "['sepal_length', 'sepal_width', 'petal_length', 'petal_width', 'species']"
      ]
     },
     "execution_count": 109,
     "metadata": {},
     "output_type": "execute_result"
    }
   ],
   "source": [
    "# Obtener los nombres de las variables disponibles\n",
    "variable_names = dataset.get_variable_names()\n",
    "variable_names"
   ]
  },
  {
   "cell_type": "code",
   "execution_count": 110,
   "id": "2f159260-a20c-4bc8-98de-bfded532e207",
   "metadata": {},
   "outputs": [
    {
     "data": {
      "text/plain": [
       "mean      5.843333\n",
       "median    5.800000\n",
       "std       0.828066\n",
       "q25       5.100000\n",
       "q50       5.800000\n",
       "q75       6.400000\n",
       "dtype: float64"
      ]
     },
     "execution_count": 110,
     "metadata": {},
     "output_type": "execute_result"
    },
    {
     "data": {
      "image/png": "[encoded data removed]",
      "text/plain": [
       "<Figure size 500x500 with 1 Axes>"
      ]
     },
     "metadata": {},
     "output_type": "display_data"
    }
   ],
   "source": [
    "# Analizar una variable específica (por ejemplo, 'sepal_length')\n",
    "variable_statistics = dataset.analyze_variable('sepal_length', hist=True)\n",
    "variable_statistics"
   ]
  },
  {
   "cell_type": "markdown",
   "id": "abefc4f0-2e9e-47d9-9dab-1b06147d86e1",
   "metadata": {},
   "source": [
    "# Funcion propia de Estadisticas Descriptivas"
   ]
  },
  {
   "cell_type": "code",
   "execution_count": 114,
   "id": "b82d889e-a44c-431a-95b7-9fe7cf4c40ab",
   "metadata": {},
   "outputs": [],
   "source": [
    "pd.options.display.float_format = '{:,.2f}'.format # Configuramos separadores de miles y 2 decimales"
   ]
  },
  {
   "cell_type": "code",
   "execution_count": 115,
   "id": "b113b5bb-9976-4340-be8f-42cb7244e42c",
   "metadata": {},
   "outputs": [],
   "source": [
    "def summary(y,include='numeric'):\n",
    "    def numer(x):\n",
    "        x2 = x.dropna()\n",
    "        a = x.isna().sum()\n",
    "        b = x2.mean()\n",
    "        c = x2.std()\n",
    "        d = c/b\n",
    "        e = x2.skew()\n",
    "        f = x2.kurt()\n",
    "        g = x2.min()\n",
    "        h = np.quantile(x2,0.25)\n",
    "        i = x2.median()\n",
    "        j = np.quantile(x2,0.75)\n",
    "        k = x2.max()\n",
    "        l = pd.Series({\"Missings\":a,\"Mean\":b,\"St.dev\":c,\"Coef.var\":d,\"Skewness\":e,\n",
    "                       \"Kurtosis\":f,\"Min\":g,\"%25\":h,\"Median\":i,\"%75\":j,\"Max\":k})\n",
    "        return(l)\n",
    "    \n",
    "    if include == 'numeric': \n",
    "        numerics = y.select_dtypes(include='number')\n",
    "        if len(numerics.columns) > 0: return(numerics.apply(numer)) \n",
    "        else: print('Error. There are not numeric-type columns!!')\n",
    "        \n",
    "    if include == 'object':    \n",
    "        objects = y.select_dtypes(include='object')\n",
    "        if len(objects.columns) > 0: return(objects.describe(include=\"object\"))\n",
    "        else: print('Error. There are not object-type columns!!')"
   ]
  },
  {
   "cell_type": "code",
   "execution_count": 116,
   "id": "4206defa-a0a0-4afd-9836-b6eedfe7d16c",
   "metadata": {},
   "outputs": [
    {
     "data": {
      "text/html": [
       "<div>\n",
       "<style scoped>\n",
       "    .dataframe tbody tr th:only-of-type {\n",
       "        vertical-align: middle;\n",
       "    }\n",
       "\n",
       "    .dataframe tbody tr th {\n",
       "        vertical-align: top;\n",
       "    }\n",
       "\n",
       "    .dataframe thead th {\n",
       "        text-align: right;\n",
       "    }\n",
       "</style>\n",
       "<table border=\"1\" class=\"dataframe\">\n",
       "  <thead>\n",
       "    <tr style=\"text-align: right;\">\n",
       "      <th></th>\n",
       "      <th>sepal_length</th>\n",
       "      <th>sepal_width</th>\n",
       "      <th>petal_length</th>\n",
       "      <th>petal_width</th>\n",
       "    </tr>\n",
       "  </thead>\n",
       "  <tbody>\n",
       "    <tr>\n",
       "      <th>Missings</th>\n",
       "      <td>0.00</td>\n",
       "      <td>0.00</td>\n",
       "      <td>0.00</td>\n",
       "      <td>0.00</td>\n",
       "    </tr>\n",
       "    <tr>\n",
       "      <th>Mean</th>\n",
       "      <td>5.84</td>\n",
       "      <td>3.06</td>\n",
       "      <td>3.76</td>\n",
       "      <td>1.20</td>\n",
       "    </tr>\n",
       "    <tr>\n",
       "      <th>St.dev</th>\n",
       "      <td>0.83</td>\n",
       "      <td>0.44</td>\n",
       "      <td>1.77</td>\n",
       "      <td>0.76</td>\n",
       "    </tr>\n",
       "    <tr>\n",
       "      <th>Coef.var</th>\n",
       "      <td>0.14</td>\n",
       "      <td>0.14</td>\n",
       "      <td>0.47</td>\n",
       "      <td>0.64</td>\n",
       "    </tr>\n",
       "    <tr>\n",
       "      <th>Skewness</th>\n",
       "      <td>0.31</td>\n",
       "      <td>0.32</td>\n",
       "      <td>-0.27</td>\n",
       "      <td>-0.10</td>\n",
       "    </tr>\n",
       "    <tr>\n",
       "      <th>Kurtosis</th>\n",
       "      <td>-0.55</td>\n",
       "      <td>0.23</td>\n",
       "      <td>-1.40</td>\n",
       "      <td>-1.34</td>\n",
       "    </tr>\n",
       "    <tr>\n",
       "      <th>Min</th>\n",
       "      <td>4.30</td>\n",
       "      <td>2.00</td>\n",
       "      <td>1.00</td>\n",
       "      <td>0.10</td>\n",
       "    </tr>\n",
       "    <tr>\n",
       "      <th>%25</th>\n",
       "      <td>5.10</td>\n",
       "      <td>2.80</td>\n",
       "      <td>1.60</td>\n",
       "      <td>0.30</td>\n",
       "    </tr>\n",
       "    <tr>\n",
       "      <th>Median</th>\n",
       "      <td>5.80</td>\n",
       "      <td>3.00</td>\n",
       "      <td>4.35</td>\n",
       "      <td>1.30</td>\n",
       "    </tr>\n",
       "    <tr>\n",
       "      <th>%75</th>\n",
       "      <td>6.40</td>\n",
       "      <td>3.30</td>\n",
       "      <td>5.10</td>\n",
       "      <td>1.80</td>\n",
       "    </tr>\n",
       "    <tr>\n",
       "      <th>Max</th>\n",
       "      <td>7.90</td>\n",
       "      <td>4.40</td>\n",
       "      <td>6.90</td>\n",
       "      <td>2.50</td>\n",
       "    </tr>\n",
       "  </tbody>\n",
       "</table>\n",
       "</div>"
      ],
      "text/plain": [
       "          sepal_length  sepal_width  petal_length  petal_width\n",
       "Missings          0.00         0.00          0.00         0.00\n",
       "Mean              5.84         3.06          3.76         1.20\n",
       "St.dev            0.83         0.44          1.77         0.76\n",
       "Coef.var          0.14         0.14          0.47         0.64\n",
       "Skewness          0.31         0.32         -0.27        -0.10\n",
       "Kurtosis         -0.55         0.23         -1.40        -1.34\n",
       "Min               4.30         2.00          1.00         0.10\n",
       "%25               5.10         2.80          1.60         0.30\n",
       "Median            5.80         3.00          4.35         1.30\n",
       "%75               6.40         3.30          5.10         1.80\n",
       "Max               7.90         4.40          6.90         2.50"
      ]
     },
     "execution_count": 116,
     "metadata": {},
     "output_type": "execute_result"
    }
   ],
   "source": [
    "summary(iris)"
   ]
  },
  {
   "cell_type": "code",
   "execution_count": 117,
   "id": "f63ad079-b341-49df-84e1-d00698cc9b4e",
   "metadata": {},
   "outputs": [
    {
     "data": {
      "text/plain": [
       "<AxesSubplot:ylabel='Frequency'>"
      ]
     },
     "execution_count": 117,
     "metadata": {},
     "output_type": "execute_result"
    },
    {
     "data": {
      "image/png": "[encoded data removed]",
      "text/plain": [
       "<Figure size 640x480 with 1 Axes>"
      ]
     },
     "metadata": {},
     "output_type": "display_data"
    }
   ],
   "source": [
    "iris = sns.load_dataset(\"iris\") # tipo dataframe pandas\n",
    "iris.sepal_length.plot.hist(bins = 20) # no se puede tener la densidad"
   ]
  },
  {
   "cell_type": "code",
   "execution_count": null,
   "id": "9b0af6f2-9319-4158-8ec5-1d55de9b5c4c",
   "metadata": {},
   "outputs": [],
   "source": []
  }
 ],
 "metadata": {
  "kernelspec": {
   "display_name": "Python 3 (ipykernel)",
   "language": "python",
   "name": "python3"
  },
  "language_info": {
   "codemirror_mode": {
    "name": "ipython",
    "version": 3
   },
   "file_extension": ".py",
   "mimetype": "text/x-python",
   "name": "python",
   "nbconvert_exporter": "python",
   "pygments_lexer": "ipython3",
   "version": "3.9.13"
  }
 },
 "nbformat": 4,
 "nbformat_minor": 5
}
